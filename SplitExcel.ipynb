{
  "nbformat": 4,
  "nbformat_minor": 0,
  "metadata": {
    "colab": {
      "name": "SplitExcel.ipynb",
      "provenance": []
    },
    "kernelspec": {
      "name": "python3",
      "display_name": "Python 3"
    },
    "language_info": {
      "name": "python"
    }
  },
  "cells": [
    {
      "cell_type": "code",
      "execution_count": null,
      "metadata": {
        "id": "rgr4USP7ZX8y"
      },
      "outputs": [],
      "source": [
        "import pandas as pd\n",
        "from pathlib import Path\n",
        "from google.colab import files\n",
        "\n",
        "print(\"First upload some Excel file with xls in file name or extension...\")\n",
        "uploaded = files.upload()\n",
        "\n",
        "save_file = \"my_sheets.xlsx\"\n",
        "print(\"Will save results in \", save_file)\n",
        "\n",
        "xfiles = Path(\".\").glob(\"*xls*\")\n",
        "xfiles = [f for f in xfiles if f.is_file()]\n",
        "print(\"have following files with xls in folder\", xfiles)\n",
        "print(\"Picking first one\", xfiles[0])\n",
        "df = pd.read_excel(xfiles[0])\n",
        "df.head()\n",
        "categories = df[\"Visual group\"].unique().tolist()\n",
        "print(\"Will save the following categories:\", categories)\n",
        "sheets = dict()\n",
        "# create new dataframes each filtering some specific category\n",
        "for cat in categories:\n",
        "    sheets[cat] = df[df[\"Visual group\"] == cat]\n",
        "# now save\n",
        "with pd.ExcelWriter(save_file) as writer: \n",
        "    df.to_excel(writer, sheet_name=\"Master\")\n",
        "    for cat_name, sheet in sheets.items():\n",
        "        sheet.to_excel(writer,sheet_name=cat_name)\n",
        "files.download(save_file)"
      ]
    }
  ]
}